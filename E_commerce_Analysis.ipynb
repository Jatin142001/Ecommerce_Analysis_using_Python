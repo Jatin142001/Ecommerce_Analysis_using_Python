{
 "cells": [
  {
   "cell_type": "markdown",
   "id": "c218eed2-1887-4362-9e62-c0aca2329b7e",
   "metadata": {},
   "source": [
    "# Import required libraries"
   ]
  },
  {
   "cell_type": "code",
   "execution_count": null,
   "id": "31b12ca7-7042-4d46-b0c9-60a048c40643",
   "metadata": {},
   "outputs": [],
   "source": [
    "import pandas as pd\n",
    "import plotly.express as px\n",
    "import plotly.graph_objects as go\n",
    "import plotly.io as pio\n",
    "import plotly.colors as colors\n",
    "pio.templates.default = 'plotly_white'"
   ]
  },
  {
   "cell_type": "markdown",
   "id": "8cfcb6d8-6c36-46df-b251-e63aba381418",
   "metadata": {},
   "source": [
    "# Import Dataset"
   ]
  },
  {
   "cell_type": "code",
   "execution_count": null,
   "id": "6f44f078-c679-483b-8549-c63ef4c5c802",
   "metadata": {},
   "outputs": [],
   "source": [
    "dataset = pd.read_csv('Ecommerce_dataset.csv', encoding = 'latin-1')\n",
    "dataset.head()"
   ]
  },
  {
   "cell_type": "markdown",
   "id": "77b6f86e-3ebb-47ab-ba64-9de4d1544f1e",
   "metadata": {},
   "source": [
    "# Checking the null values present in the dataset."
   ]
  },
  {
   "cell_type": "code",
   "execution_count": null,
   "id": "dbf59994-c85c-4db2-b7ac-bfd2e72e965b",
   "metadata": {},
   "outputs": [],
   "source": [
    "dataset.isnull().sum()"
   ]
  },
  {
   "cell_type": "markdown",
   "id": "2f5a6510-78c4-4943-9ede-b102ef1ef3ec",
   "metadata": {},
   "source": [
    "# Showing the information about the dataset."
   ]
  },
  {
   "cell_type": "code",
   "execution_count": null,
   "id": "5e3d323a-50ad-4c56-90c3-bc969f86d58b",
   "metadata": {},
   "outputs": [],
   "source": [
    "dataset.info()"
   ]
  },
  {
   "cell_type": "markdown",
   "id": "50eb5237-5f4e-4605-875b-04934437dd38",
   "metadata": {},
   "source": [
    "# Showing the descriptive statistics of the dataset."
   ]
  },
  {
   "cell_type": "code",
   "execution_count": null,
   "id": "dfe82d78-484f-48da-9e4a-cae195bf724e",
   "metadata": {},
   "outputs": [],
   "source": [
    "dataset.describe()"
   ]
  },
  {
   "cell_type": "markdown",
   "id": "ec367610-8bb4-4fff-95fb-cc6c79f006b9",
   "metadata": {},
   "source": [
    "# Showing the rows and columns present in the dataset."
   ]
  },
  {
   "cell_type": "code",
   "execution_count": null,
   "id": "d4550f73-a80c-4167-8c62-31c68ce05ba2",
   "metadata": {},
   "outputs": [],
   "source": [
    "dataset.shape"
   ]
  },
  {
   "cell_type": "markdown",
   "id": "40c9cf3e-7560-4a55-b44c-9228a1320ed7",
   "metadata": {},
   "source": [
    "# Changing the Data Type of the Order_Date and Ship_Date Columns."
   ]
  },
  {
   "cell_type": "code",
   "execution_count": null,
   "id": "d6338232-d39f-4f0a-b188-86600fc55a3d",
   "metadata": {},
   "outputs": [],
   "source": [
    "dataset['Order Date'] = pd.to_datetime(dataset['Order Date'])"
   ]
  },
  {
   "cell_type": "code",
   "execution_count": null,
   "id": "bebe1317-60ac-4753-9d66-8759167428d1",
   "metadata": {},
   "outputs": [],
   "source": [
    "dataset['Ship Date'] = pd.to_datetime(dataset['Ship Date'])"
   ]
  },
  {
   "cell_type": "code",
   "execution_count": null,
   "id": "decd2723-0213-498d-bf15-0818abd29df2",
   "metadata": {},
   "outputs": [],
   "source": [
    "dataset.info()"
   ]
  },
  {
   "cell_type": "code",
   "execution_count": null,
   "id": "8b02dff8-2599-404e-a839-d29051930f1e",
   "metadata": {},
   "outputs": [],
   "source": [
    "dataset.head()"
   ]
  },
  {
   "cell_type": "code",
   "execution_count": null,
   "id": "c88f9a4d-cd6a-4201-b296-99307b62c497",
   "metadata": {},
   "outputs": [],
   "source": [
    "dataset['Order Month'] = dataset['Order Date'].dt.month"
   ]
  },
  {
   "cell_type": "code",
   "execution_count": null,
   "id": "af5e05f2-9536-4a0d-b9b4-2837cf38289c",
   "metadata": {},
   "outputs": [],
   "source": [
    "dataset['Order Year'] = dataset['Order Date'].dt.year"
   ]
  },
  {
   "cell_type": "code",
   "execution_count": null,
   "id": "8fc66c68-6670-45bc-ab44-10d6cb54ca62",
   "metadata": {},
   "outputs": [],
   "source": [
    "dataset['Order Day of Week'] = dataset['Order Date'].dt.dayofweek"
   ]
  },
  {
   "cell_type": "code",
   "execution_count": null,
   "id": "c1987b6d-811b-4d7d-aa6c-fd01ed486cf0",
   "metadata": {},
   "outputs": [],
   "source": [
    "dataset.head()"
   ]
  },
  {
   "cell_type": "markdown",
   "id": "7c4ecd70-fba9-4c46-a2ec-7ae1052ed952",
   "metadata": {},
   "source": [
    "# Queries Related to the Project "
   ]
  },
  {
   "cell_type": "markdown",
   "id": "24f66d9b-60d4-4342-95f6-e2f52292f19b",
   "metadata": {},
   "source": [
    "# 1. Calculate the monthly sales of the store and identify which month had the highest sales and which month had the lowest sales."
   ]
  },
  {
   "cell_type": "code",
   "execution_count": null,
   "id": "7a69e68f-8acf-49c8-96a5-e35dca3ec52a",
   "metadata": {},
   "outputs": [],
   "source": [
    "sales_by_month = dataset.groupby('Order Month')['Sales'].sum().reset_index()\n",
    "sales_by_month"
   ]
  },
  {
   "cell_type": "code",
   "execution_count": null,
   "id": "a4a44aa1-f541-4eae-b198-a5cbed4b5a8f",
   "metadata": {},
   "outputs": [],
   "source": [
    "fig = px.line(sales_by_month,\n",
    "             x = 'Order Month',\n",
    "             y = 'Sales',\n",
    "             title = 'Monthly Sales',)\n",
    "fig.show()"
   ]
  },
  {
   "cell_type": "markdown",
   "id": "0d0c9a33-2c07-4ba0-9a40-86f042b412bf",
   "metadata": {},
   "source": [
    "# 2. Analyze sales based on product categories and determine which category has the lowest sales and which category has the highest sales."
   ]
  },
  {
   "cell_type": "code",
   "execution_count": null,
   "id": "c74a4b43-76f1-4946-b1f6-159a89d204c4",
   "metadata": {},
   "outputs": [],
   "source": [
    "sales_by_category = dataset.groupby('Category')['Sales'].sum().reset_index()"
   ]
  },
  {
   "cell_type": "code",
   "execution_count": null,
   "id": "1ff2609b-f831-4364-b78f-65df79bb122b",
   "metadata": {},
   "outputs": [],
   "source": [
    "sales_by_category"
   ]
  },
  {
   "cell_type": "code",
   "execution_count": null,
   "id": "f50f7069-0cd4-4858-b8d9-573d44e1eb6e",
   "metadata": {},
   "outputs": [],
   "source": [
    "fig = px.pie(sales_by_category, \n",
    "            values = 'Sales',\n",
    "            names = 'Category',\n",
    "            hole = 0.4,\n",
    "            color_discrete_sequence = px.colors.qualitative.Pastel)\n",
    "\n",
    "fig.update_traces(textposition = 'inside', textinfo = 'percent+label')\n",
    "fig.update_layout(title_text = 'Sales Analysis by Category', title_font = dict(size = 24))\n",
    "\n",
    "fig.show()"
   ]
  },
  {
   "cell_type": "markdown",
   "id": "7d500745-ae49-4a8c-a60d-a33969d8cea7",
   "metadata": {},
   "source": [
    "# 3. The sales analysis need to be done based on sub-categories"
   ]
  },
  {
   "cell_type": "code",
   "execution_count": null,
   "id": "b5993eb6-ea6f-4333-9106-9e90e38c698a",
   "metadata": {},
   "outputs": [],
   "source": [
    "sales_by_subcategory = dataset.groupby('Sub-Category')['Sales'].sum().reset_index()"
   ]
  },
  {
   "cell_type": "code",
   "execution_count": null,
   "id": "336bc707-016c-49c4-bedf-c082ba162e0c",
   "metadata": {},
   "outputs": [],
   "source": [
    "sales_by_subcategory"
   ]
  },
  {
   "cell_type": "code",
   "execution_count": null,
   "id": "f63d1f12-d18c-42e3-8009-5dbecd0a8572",
   "metadata": {},
   "outputs": [],
   "source": [
    "fig = px.bar(sales_by_subcategory,\n",
    "            x = 'Sub-Category',\n",
    "            y = 'Sales',\n",
    "            title = 'Sales Analysis by Sub_Category ')\n",
    "\n",
    "fig.show()"
   ]
  },
  {
   "cell_type": "markdown",
   "id": "c52ba89b-aa4e-4e3e-9338-e61a529eb41b",
   "metadata": {},
   "source": [
    "# 4. Analyze the monthly profit from sales and determine which month had the highest profit"
   ]
  },
  {
   "cell_type": "code",
   "execution_count": null,
   "id": "43065fc4-b896-4de4-96c9-08551d386016",
   "metadata": {},
   "outputs": [],
   "source": [
    "profit_by_month = dataset.groupby('Order Month')['Profit'].sum().reset_index()"
   ]
  },
  {
   "cell_type": "code",
   "execution_count": null,
   "id": "9a8fd693-f103-4020-bc71-5c385419291e",
   "metadata": {},
   "outputs": [],
   "source": [
    "profit_by_month"
   ]
  },
  {
   "cell_type": "code",
   "execution_count": null,
   "id": "23fcec80-a474-4d64-97da-9f2c62eabd6e",
   "metadata": {},
   "outputs": [],
   "source": [
    "fig = px.line(profit_by_month,\n",
    "             x = 'Order Month',\n",
    "             y = 'Profit',\n",
    "             title = 'Monthly Profit Analysis')\n",
    "\n",
    "fig.show()"
   ]
  },
  {
   "cell_type": "code",
   "execution_count": null,
   "id": "d85511c9-7397-420d-ad45-a503567d9feb",
   "metadata": {},
   "outputs": [],
   "source": [
    "fig = px.bar(profit_by_month,\n",
    "             x = 'Order Month',\n",
    "             y = 'Profit',\n",
    "             title = 'Monthly Profit Analysis')\n",
    "\n",
    "fig.show()"
   ]
  },
  {
   "cell_type": "markdown",
   "id": "14545026-4599-49a1-8014-7c8f1cd9bd03",
   "metadata": {},
   "source": [
    "# 5. Analyze the profit by category."
   ]
  },
  {
   "cell_type": "code",
   "execution_count": null,
   "id": "c56942f4-2fad-45fb-aef1-d67a5e3e0a5e",
   "metadata": {},
   "outputs": [],
   "source": [
    "profit_by_category = dataset.groupby('Category')['Profit'].sum().reset_index()"
   ]
  },
  {
   "cell_type": "code",
   "execution_count": null,
   "id": "8adeaaba-ca19-4649-b1cf-8e257b801c2e",
   "metadata": {},
   "outputs": [],
   "source": [
    "profit_by_category"
   ]
  },
  {
   "cell_type": "code",
   "execution_count": null,
   "id": "3c7f1d12-6728-4387-bc51-aa6ddc0b20b3",
   "metadata": {},
   "outputs": [],
   "source": [
    "fig = px.pie(profit_by_category, \n",
    "            values = 'Profit',\n",
    "            names = 'Category',\n",
    "            hole = 0.4,\n",
    "            color_discrete_sequence = px.colors.qualitative.Pastel)\n",
    "\n",
    "fig.update_traces(textposition = 'inside', textinfo = 'percent+label')\n",
    "fig.update_layout(title_text = 'Profit Analysis by Category', title_font = dict(size = 24))\n",
    "\n",
    "fig.show()"
   ]
  },
  {
   "cell_type": "markdown",
   "id": "4a23354b-8fba-4036-af81-f9b6685cef27",
   "metadata": {},
   "source": [
    "# 6. Analyze the profit by Sub-Category."
   ]
  },
  {
   "cell_type": "code",
   "execution_count": null,
   "id": "271f4c01-1b48-4f21-b4dd-bf4242875d99",
   "metadata": {},
   "outputs": [],
   "source": [
    "Profit_by_sub_category = dataset.groupby('Sub-Category')['Profit'].sum().reset_index()"
   ]
  },
  {
   "cell_type": "code",
   "execution_count": null,
   "id": "f9bc0e9f-270d-4241-a168-d93bec4c3ff8",
   "metadata": {},
   "outputs": [],
   "source": [
    "Profit_by_sub_category"
   ]
  },
  {
   "cell_type": "code",
   "execution_count": null,
   "id": "afec8741-67ec-45c3-882b-53613a64395e",
   "metadata": {},
   "outputs": [],
   "source": [
    "fig = px.bar(Profit_by_sub_category,\n",
    "            x = 'Sub-Category',\n",
    "            y = 'Profit',\n",
    "            title = 'Profit Analaysis by Sub-Category')\n",
    "\n",
    "fig.show()"
   ]
  },
  {
   "cell_type": "markdown",
   "id": "15198b19-1452-4e50-9f73-5b018ef4f6c9",
   "metadata": {},
   "source": [
    "# 8. Analyze the Sales by Customer Segment"
   ]
  },
  {
   "cell_type": "code",
   "execution_count": null,
   "id": "ad2dde82-3f8c-4843-9c9f-f29b0aee8991",
   "metadata": {},
   "outputs": [],
   "source": [
    "sales_by_customer_segment = dataset.groupby('Segment')['Sales'].sum().reset_index()"
   ]
  },
  {
   "cell_type": "code",
   "execution_count": null,
   "id": "18344ddd-20d4-4216-b3c1-40ad491122a6",
   "metadata": {},
   "outputs": [],
   "source": [
    "sales_by_customer_segment"
   ]
  },
  {
   "cell_type": "code",
   "execution_count": null,
   "id": "24d793c9-5059-406d-bde3-8e28633035c5",
   "metadata": {},
   "outputs": [],
   "source": [
    "fig = px.pie(sales_by_customer_segment, \n",
    "            values = 'Sales',\n",
    "            names = 'Segment',\n",
    "            hole = 0.4,\n",
    "            color_discrete_sequence = px.colors.qualitative.Pastel)\n",
    "\n",
    "fig.update_traces(textposition = 'inside', textinfo = 'percent+label')\n",
    "fig.update_layout(title_text = 'Sales Analysis by Customer Segment', title_font = dict(size = 24))\n",
    "\n",
    "fig.show()"
   ]
  },
  {
   "cell_type": "markdown",
   "id": "da5b3441-514a-460c-991c-87aa6e679633",
   "metadata": {},
   "source": [
    "# 9. Analyze the Profit by Customer Segement."
   ]
  },
  {
   "cell_type": "code",
   "execution_count": null,
   "id": "47de478a-62cc-4c63-9066-9a3d21c47851",
   "metadata": {},
   "outputs": [],
   "source": [
    "profit_by_customer_segment = dataset.groupby('Segment')['Profit'].sum().reset_index()"
   ]
  },
  {
   "cell_type": "code",
   "execution_count": null,
   "id": "0fc24c22-0947-4427-8a4d-1b3bd73275c6",
   "metadata": {},
   "outputs": [],
   "source": [
    "profit_by_customer_segment"
   ]
  },
  {
   "cell_type": "code",
   "execution_count": null,
   "id": "25a12f42-41d1-44fa-9c25-3a535365efba",
   "metadata": {},
   "outputs": [],
   "source": [
    "fig = px.pie(profit_by_customer_segment, \n",
    "            values = 'Profit',\n",
    "            names = 'Segment',\n",
    "            hole = 0.4,\n",
    "            color_discrete_sequence = px.colors.qualitative.Pastel)\n",
    "\n",
    "fig.update_traces(textposition = 'inside', textinfo = 'percent+label')\n",
    "fig.update_layout(title_text = 'Profit Analysis by Customer Segment', title_font = dict(size = 24))\n",
    "\n",
    "fig.show()"
   ]
  },
  {
   "cell_type": "markdown",
   "id": "7e95838d-ee23-4f42-b1d0-e8c8d1385bbe",
   "metadata": {},
   "source": [
    "# 10. Analyze the Sales and Profit by Customer Segment."
   ]
  },
  {
   "cell_type": "code",
   "execution_count": null,
   "id": "a9eda388-c311-4f5c-ad7d-299c492b6a2e",
   "metadata": {},
   "outputs": [],
   "source": [
    "sales_profit_by_segment = dataset.groupby('Segment').agg({'Sales' : 'sum', 'Profit' : 'sum'}).reset_index()\n",
    "\n",
    "color_palette = colors.qualitative.Pastel\n",
    "\n",
    "fig = go.Figure()\n",
    "\n",
    "fig.add_trace(go.Bar(x = sales_profit_by_segment['Segment'],\n",
    "                     y = sales_profit_by_segment['Sales'],\n",
    "                     name = 'Sales',\n",
    "                     marker_color = color_palette[0]))\n",
    "\n",
    "fig.add_trace(go.Bar(x = sales_profit_by_segment['Segment'],\n",
    "                     y = sales_profit_by_segment['Profit'],\n",
    "                     name = 'Profit',\n",
    "                     marker_color = color_palette[1]))\n",
    "\n",
    "fig.update_layout(title = 'Sales and Profit Analysis by Customer Segment',\n",
    "                 xaxis_title = 'Customer Segment', yaxis_title = 'Amount')\n",
    "\n",
    "fig.show()\n"
   ]
  },
  {
   "cell_type": "markdown",
   "id": "629c41ac-f2f3-4e5a-a9d0-074e9f21950c",
   "metadata": {},
   "source": [
    "# 11. Analyze the Sales to Profit Ratio."
   ]
  },
  {
   "cell_type": "code",
   "execution_count": null,
   "id": "25ed4c4b-e1d6-4383-a41e-28d8a47d4a1b",
   "metadata": {},
   "outputs": [],
   "source": [
    "sales_profit_by_segment = dataset.groupby('Segment').agg({'Sales' : 'sum', 'Profit' : 'sum'}).reset_index()\n",
    "sales_profit_by_segment['Sales_to_Profit_Ratio'] = sales_profit_by_segment['Sales']/sales_profit_by_segment['Profit']\n",
    "print(sales_profit_by_segment[['Segment', 'Sales_to_Profit_Ratio']])"
   ]
  },
  {
   "cell_type": "code",
   "execution_count": null,
   "id": "e4152d07-9268-498f-9bb1-b167f10a4c81",
   "metadata": {},
   "outputs": [],
   "source": [
    "fig = px.pie(sales_profit_by_segment, \n",
    "            values = 'Sales_to_Profit_Ratio',\n",
    "            names = 'Segment',\n",
    "            hole = 0.4,\n",
    "            color_discrete_sequence = px.colors.qualitative.Pastel)\n",
    "\n",
    "fig.update_traces(textposition = 'inside', textinfo = 'percent+label')\n",
    "fig.update_layout(title_text = 'Sales and Profit Ratio by Segment', title_font = dict(size = 24))\n",
    "\n",
    "fig.show()"
   ]
  }
 ],
 "metadata": {
  "kernelspec": {
   "display_name": "Python 3 (ipykernel)",
   "language": "python",
   "name": "python3"
  },
  "language_info": {
   "codemirror_mode": {
    "name": "ipython",
    "version": 3
   },
   "file_extension": ".py",
   "mimetype": "text/x-python",
   "name": "python",
   "nbconvert_exporter": "python",
   "pygments_lexer": "ipython3",
   "version": "3.12.7"
  }
 },
 "nbformat": 4,
 "nbformat_minor": 5
}
